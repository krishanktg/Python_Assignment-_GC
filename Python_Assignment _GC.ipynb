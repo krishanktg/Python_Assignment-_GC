{
 "cells": [
  {
   "cell_type": "code",
   "execution_count": 1,
   "id": "c1fbfef2",
   "metadata": {},
   "outputs": [],
   "source": [
    "import numpy as np\n",
    "import pandas as pd\n",
    "import matplotlib.pyplot as plt\n",
    "import seaborn as sns"
   ]
  },
  {
   "cell_type": "code",
   "execution_count": 2,
   "id": "ab77f813",
   "metadata": {},
   "outputs": [],
   "source": [
    "df=pd.read_excel(\"Python_Dataset.xlsx\")"
   ]
  },
  {
   "cell_type": "code",
   "execution_count": 3,
   "id": "b64dc295",
   "metadata": {},
   "outputs": [
    {
     "data": {
      "text/html": [
       "<div>\n",
       "<style scoped>\n",
       "    .dataframe tbody tr th:only-of-type {\n",
       "        vertical-align: middle;\n",
       "    }\n",
       "\n",
       "    .dataframe tbody tr th {\n",
       "        vertical-align: top;\n",
       "    }\n",
       "\n",
       "    .dataframe thead th {\n",
       "        text-align: right;\n",
       "    }\n",
       "</style>\n",
       "<table border=\"1\" class=\"dataframe\">\n",
       "  <thead>\n",
       "    <tr style=\"text-align: right;\">\n",
       "      <th></th>\n",
       "      <th>Customer_ID</th>\n",
       "      <th>Purchase_Date</th>\n",
       "      <th>Product_Name</th>\n",
       "      <th>Product_Category</th>\n",
       "      <th>Quantity</th>\n",
       "      <th>Total_Price</th>\n",
       "    </tr>\n",
       "  </thead>\n",
       "  <tbody>\n",
       "    <tr>\n",
       "      <th>0</th>\n",
       "      <td>1046</td>\n",
       "      <td>2023-02-26</td>\n",
       "      <td>across</td>\n",
       "      <td>certain</td>\n",
       "      <td>17</td>\n",
       "      <td>134.96</td>\n",
       "    </tr>\n",
       "    <tr>\n",
       "      <th>1</th>\n",
       "      <td>1083</td>\n",
       "      <td>2023-10-10</td>\n",
       "      <td>attention</td>\n",
       "      <td>worry</td>\n",
       "      <td>13</td>\n",
       "      <td>178.36</td>\n",
       "    </tr>\n",
       "    <tr>\n",
       "      <th>2</th>\n",
       "      <td>1051</td>\n",
       "      <td>2023-04-04</td>\n",
       "      <td>raise</td>\n",
       "      <td>politics</td>\n",
       "      <td>13</td>\n",
       "      <td>176.99</td>\n",
       "    </tr>\n",
       "    <tr>\n",
       "      <th>3</th>\n",
       "      <td>1032</td>\n",
       "      <td>2023-04-16</td>\n",
       "      <td>scientist</td>\n",
       "      <td>push</td>\n",
       "      <td>6</td>\n",
       "      <td>187.37</td>\n",
       "    </tr>\n",
       "    <tr>\n",
       "      <th>4</th>\n",
       "      <td>1013</td>\n",
       "      <td>2023-02-26</td>\n",
       "      <td>free</td>\n",
       "      <td>word</td>\n",
       "      <td>7</td>\n",
       "      <td>103.51</td>\n",
       "    </tr>\n",
       "    <tr>\n",
       "      <th>...</th>\n",
       "      <td>...</td>\n",
       "      <td>...</td>\n",
       "      <td>...</td>\n",
       "      <td>...</td>\n",
       "      <td>...</td>\n",
       "      <td>...</td>\n",
       "    </tr>\n",
       "    <tr>\n",
       "      <th>995</th>\n",
       "      <td>1058</td>\n",
       "      <td>2022-12-02</td>\n",
       "      <td>leave</td>\n",
       "      <td>goal</td>\n",
       "      <td>9</td>\n",
       "      <td>11.15</td>\n",
       "    </tr>\n",
       "    <tr>\n",
       "      <th>996</th>\n",
       "      <td>1092</td>\n",
       "      <td>2023-02-03</td>\n",
       "      <td>eye</td>\n",
       "      <td>here</td>\n",
       "      <td>14</td>\n",
       "      <td>124.80</td>\n",
       "    </tr>\n",
       "    <tr>\n",
       "      <th>997</th>\n",
       "      <td>1007</td>\n",
       "      <td>2023-01-04</td>\n",
       "      <td>yes</td>\n",
       "      <td>over</td>\n",
       "      <td>7</td>\n",
       "      <td>12.20</td>\n",
       "    </tr>\n",
       "    <tr>\n",
       "      <th>998</th>\n",
       "      <td>1082</td>\n",
       "      <td>2023-08-13</td>\n",
       "      <td>toward</td>\n",
       "      <td>determine</td>\n",
       "      <td>9</td>\n",
       "      <td>97.94</td>\n",
       "    </tr>\n",
       "    <tr>\n",
       "      <th>999</th>\n",
       "      <td>1047</td>\n",
       "      <td>2023-11-13</td>\n",
       "      <td>worry</td>\n",
       "      <td>send</td>\n",
       "      <td>5</td>\n",
       "      <td>159.47</td>\n",
       "    </tr>\n",
       "  </tbody>\n",
       "</table>\n",
       "<p>1000 rows × 6 columns</p>\n",
       "</div>"
      ],
      "text/plain": [
       "     Customer_ID Purchase_Date Product_Name Product_Category  Quantity  \\\n",
       "0           1046    2023-02-26       across          certain        17   \n",
       "1           1083    2023-10-10    attention            worry        13   \n",
       "2           1051    2023-04-04        raise         politics        13   \n",
       "3           1032    2023-04-16    scientist             push         6   \n",
       "4           1013    2023-02-26         free             word         7   \n",
       "..           ...           ...          ...              ...       ...   \n",
       "995         1058    2022-12-02        leave             goal         9   \n",
       "996         1092    2023-02-03          eye             here        14   \n",
       "997         1007    2023-01-04          yes             over         7   \n",
       "998         1082    2023-08-13       toward        determine         9   \n",
       "999         1047    2023-11-13        worry             send         5   \n",
       "\n",
       "     Total_Price  \n",
       "0         134.96  \n",
       "1         178.36  \n",
       "2         176.99  \n",
       "3         187.37  \n",
       "4         103.51  \n",
       "..           ...  \n",
       "995        11.15  \n",
       "996       124.80  \n",
       "997        12.20  \n",
       "998        97.94  \n",
       "999       159.47  \n",
       "\n",
       "[1000 rows x 6 columns]"
      ]
     },
     "execution_count": 3,
     "metadata": {},
     "output_type": "execute_result"
    }
   ],
   "source": [
    "df"
   ]
  },
  {
   "cell_type": "code",
   "execution_count": 4,
   "id": "4cc08113",
   "metadata": {},
   "outputs": [
    {
     "data": {
      "text/plain": [
       "(1000, 6)"
      ]
     },
     "execution_count": 4,
     "metadata": {},
     "output_type": "execute_result"
    }
   ],
   "source": [
    "df.shape"
   ]
  },
  {
   "cell_type": "code",
   "execution_count": 5,
   "id": "b164ecd3",
   "metadata": {},
   "outputs": [
    {
     "data": {
      "text/plain": [
       "Customer_ID         0\n",
       "Purchase_Date       0\n",
       "Product_Name        0\n",
       "Product_Category    0\n",
       "Quantity            0\n",
       "Total_Price         0\n",
       "dtype: int64"
      ]
     },
     "execution_count": 5,
     "metadata": {},
     "output_type": "execute_result"
    }
   ],
   "source": [
    "df.isnull().sum()"
   ]
  },
  {
   "cell_type": "code",
   "execution_count": 6,
   "id": "3a130c18",
   "metadata": {},
   "outputs": [
    {
     "data": {
      "text/plain": [
       "10256"
      ]
     },
     "execution_count": 6,
     "metadata": {},
     "output_type": "execute_result"
    }
   ],
   "source": [
    "df[\"Quantity\"].sum()"
   ]
  },
  {
   "cell_type": "code",
   "execution_count": null,
   "id": "0700797a",
   "metadata": {},
   "outputs": [],
   "source": []
  },
  {
   "cell_type": "markdown",
   "id": "bba5d42c",
   "metadata": {},
   "source": [
    "## Total Revenue generated"
   ]
  },
  {
   "cell_type": "code",
   "execution_count": 7,
   "id": "3ea1b84b",
   "metadata": {},
   "outputs": [
    {
     "data": {
      "text/plain": [
       "1104066.89"
      ]
     },
     "execution_count": 7,
     "metadata": {},
     "output_type": "execute_result"
    }
   ],
   "source": [
    "rev=df[\"Quantity\"]*df[\"Total_Price\"]\n",
    "Tota_revenue=float(format(rev.sum(),\".2f\"))\n",
    "Tota_revenue"
   ]
  },
  {
   "cell_type": "code",
   "execution_count": 8,
   "id": "398aa917",
   "metadata": {
    "scrolled": false
   },
   "outputs": [
    {
     "data": {
      "text/plain": [
       "<AxesSubplot:xlabel='tr'>"
      ]
     },
     "execution_count": 8,
     "metadata": {},
     "output_type": "execute_result"
    },
    {
     "data": {
      "image/png": "[encoded data removed]",
      "text/plain": [
       "<Figure size 640x480 with 1 Axes>"
      ]
     },
     "metadata": {},
     "output_type": "display_data"
    }
   ],
   "source": [
    "TR=pd.DataFrame({'tr':[\"Total Revenue\"], 'revenue':[Tota_revenue]})\n",
    "TR.plot.bar(x=\"tr\",y=\"revenue\",rot=0)"
   ]
  },
  {
   "cell_type": "code",
   "execution_count": null,
   "id": "d6261b9e",
   "metadata": {},
   "outputs": [],
   "source": []
  },
  {
   "cell_type": "code",
   "execution_count": 9,
   "id": "585f8d85",
   "metadata": {
    "scrolled": true
   },
   "outputs": [],
   "source": [
    "Total_Cus=sorted(df[\"Customer_ID\"].unique())\n"
   ]
  },
  {
   "cell_type": "code",
   "execution_count": 10,
   "id": "ea87a2ce",
   "metadata": {
    "scrolled": true
   },
   "outputs": [
    {
     "data": {
      "text/plain": [
       "631"
      ]
     },
     "execution_count": 10,
     "metadata": {},
     "output_type": "execute_result"
    }
   ],
   "source": [
    "product=df.Product_Name.unique()\n",
    "len(product)"
   ]
  },
  {
   "cell_type": "markdown",
   "id": "8cabb018",
   "metadata": {},
   "source": [
    "## Revenue Each month"
   ]
  },
  {
   "cell_type": "code",
   "execution_count": 11,
   "id": "90958d7c",
   "metadata": {},
   "outputs": [
    {
     "data": {
      "text/plain": [
       "103806.40000000001"
      ]
     },
     "execution_count": 11,
     "metadata": {},
     "output_type": "execute_result"
    }
   ],
   "source": [
    "d_jan=df[(df[\"Purchase_Date\"]>=\"2023-01-01\")&(df[\"Purchase_Date\"]<=\"2023-01-31\")]\n",
    "Jan=(d_jan[\"Quantity\"]*d_jan[\"Total_Price\"]).sum()\n",
    "Jan"
   ]
  },
  {
   "cell_type": "code",
   "execution_count": 12,
   "id": "fcdfd36d",
   "metadata": {},
   "outputs": [
    {
     "data": {
      "text/plain": [
       "89660.55"
      ]
     },
     "execution_count": 12,
     "metadata": {},
     "output_type": "execute_result"
    }
   ],
   "source": [
    "d_feb=df[(df[\"Purchase_Date\"]>=\"2023-02-01\")&(df[\"Purchase_Date\"]<=\"2023-02-28\")]\n",
    "Feb=(d_feb[\"Quantity\"]*d_feb[\"Total_Price\"]).sum()\n",
    "Feb"
   ]
  },
  {
   "cell_type": "code",
   "execution_count": 13,
   "id": "8eb2395a",
   "metadata": {},
   "outputs": [
    {
     "data": {
      "text/plain": [
       "91472.73999999999"
      ]
     },
     "execution_count": 13,
     "metadata": {},
     "output_type": "execute_result"
    }
   ],
   "source": [
    "d_mar=df[(df[\"Purchase_Date\"]>=\"2023-03-01\")&(df[\"Purchase_Date\"]<=\"2023-03-31\")]\n",
    "Mar=(d_mar[\"Quantity\"]*d_mar[\"Total_Price\"]).sum()\n",
    "Mar"
   ]
  },
  {
   "cell_type": "code",
   "execution_count": 14,
   "id": "0d0bb4a0",
   "metadata": {},
   "outputs": [
    {
     "data": {
      "text/plain": [
       "92335.42"
      ]
     },
     "execution_count": 14,
     "metadata": {},
     "output_type": "execute_result"
    }
   ],
   "source": [
    "d_apr=df[(df[\"Purchase_Date\"]>=\"2023-04-01\")&(df[\"Purchase_Date\"]<=\"2023-04-30\")]\n",
    "Apr=(d_apr[\"Quantity\"]*d_apr[\"Total_Price\"]).sum()\n",
    "Apr"
   ]
  },
  {
   "cell_type": "code",
   "execution_count": 15,
   "id": "cd3e035f",
   "metadata": {},
   "outputs": [
    {
     "data": {
      "text/plain": [
       "60712.09000000001"
      ]
     },
     "execution_count": 15,
     "metadata": {},
     "output_type": "execute_result"
    }
   ],
   "source": [
    "d_may=df[(df[\"Purchase_Date\"]>=\"2023-05-01\")&(df[\"Purchase_Date\"]<=\"2023-05-31\")]\n",
    "May=(d_may[\"Quantity\"]*d_may[\"Total_Price\"]).sum()\n",
    "May"
   ]
  },
  {
   "cell_type": "code",
   "execution_count": 16,
   "id": "78bad568",
   "metadata": {},
   "outputs": [
    {
     "data": {
      "text/plain": [
       "93039.78"
      ]
     },
     "execution_count": 16,
     "metadata": {},
     "output_type": "execute_result"
    }
   ],
   "source": [
    "d_jun=df[(df[\"Purchase_Date\"]>=\"2023-06-01\")&(df[\"Purchase_Date\"]<=\"2023-06-30\")]\n",
    "Jun=(d_jun[\"Quantity\"]*d_jun[\"Total_Price\"]).sum()\n",
    "Jun"
   ]
  },
  {
   "cell_type": "code",
   "execution_count": 17,
   "id": "8003714e",
   "metadata": {},
   "outputs": [
    {
     "data": {
      "text/plain": [
       "106650.39"
      ]
     },
     "execution_count": 17,
     "metadata": {},
     "output_type": "execute_result"
    }
   ],
   "source": [
    "d_jul=df[(df[\"Purchase_Date\"]>=\"2023-07-01\")&(df[\"Purchase_Date\"]<=\"2023-07-31\")]\n",
    "Jul=(d_jul[\"Quantity\"]*d_jul[\"Total_Price\"]).sum()\n",
    "Jul"
   ]
  },
  {
   "cell_type": "code",
   "execution_count": 18,
   "id": "64f85d2d",
   "metadata": {},
   "outputs": [
    {
     "data": {
      "text/plain": [
       "79301.58"
      ]
     },
     "execution_count": 18,
     "metadata": {},
     "output_type": "execute_result"
    }
   ],
   "source": [
    "d_aug=df[(df[\"Purchase_Date\"]>=\"2023-08-01\")&(df[\"Purchase_Date\"]<=\"2023-08-31\")]\n",
    "Aug=(d_aug[\"Quantity\"]*d_aug[\"Total_Price\"]).sum()\n",
    "Aug"
   ]
  },
  {
   "cell_type": "code",
   "execution_count": 19,
   "id": "e08bbf8f",
   "metadata": {},
   "outputs": [
    {
     "data": {
      "text/plain": [
       "81830.59"
      ]
     },
     "execution_count": 19,
     "metadata": {},
     "output_type": "execute_result"
    }
   ],
   "source": [
    "d_sep=df[(df[\"Purchase_Date\"]>=\"2023-09-01\")&(df[\"Purchase_Date\"]<=\"2023-09-30\")]\n",
    "Sep=(d_sep[\"Quantity\"]*d_sep[\"Total_Price\"]).sum()\n",
    "Sep"
   ]
  },
  {
   "cell_type": "code",
   "execution_count": 20,
   "id": "2918832b",
   "metadata": {},
   "outputs": [
    {
     "data": {
      "text/plain": [
       "88420.24000000002"
      ]
     },
     "execution_count": 20,
     "metadata": {},
     "output_type": "execute_result"
    }
   ],
   "source": [
    "d_oct=df[(df[\"Purchase_Date\"]>=\"2023-10-01\")&(df[\"Purchase_Date\"]<=\"2023-10-31\")]\n",
    "Oct=(d_oct[\"Quantity\"]*d_oct[\"Total_Price\"]).sum()\n",
    "Oct"
   ]
  },
  {
   "cell_type": "code",
   "execution_count": 21,
   "id": "cd10bd51",
   "metadata": {},
   "outputs": [
    {
     "data": {
      "text/plain": [
       "117608.48"
      ]
     },
     "execution_count": 21,
     "metadata": {},
     "output_type": "execute_result"
    }
   ],
   "source": [
    "d_nov=df[(df[\"Purchase_Date\"]>=\"2023-11-01\")&(df[\"Purchase_Date\"]<=\"2023-11-30\")]\n",
    "Nov=(d_nov[\"Quantity\"]*d_nov[\"Total_Price\"]).sum()\n",
    "Nov"
   ]
  },
  {
   "cell_type": "code",
   "execution_count": 22,
   "id": "45e4ae88",
   "metadata": {},
   "outputs": [
    {
     "data": {
      "text/plain": [
       "94237.65000000001"
      ]
     },
     "execution_count": 22,
     "metadata": {},
     "output_type": "execute_result"
    }
   ],
   "source": [
    "d_dec=df[(df[\"Purchase_Date\"]>=\"2022-12-01\")&(df[\"Purchase_Date\"]<=\"2022-12-31\")]\n",
    "Dec=(d_dec[\"Quantity\"]*d_dec[\"Total_Price\"]).sum()\n",
    "Dec"
   ]
  },
  {
   "cell_type": "code",
   "execution_count": null,
   "id": "57491b5a",
   "metadata": {
    "scrolled": true
   },
   "outputs": [],
   "source": []
  },
  {
   "cell_type": "code",
   "execution_count": 23,
   "id": "590acc43",
   "metadata": {
    "scrolled": true
   },
   "outputs": [
    {
     "data": {
      "text/plain": [
       "<AxesSubplot:xlabel='month'>"
      ]
     },
     "execution_count": 23,
     "metadata": {},
     "output_type": "execute_result"
    },
    {
     "data": {
      "image/png": "[encoded data removed]",
      "text/plain": [
       "<Figure size 640x480 with 1 Axes>"
      ]
     },
     "metadata": {},
     "output_type": "display_data"
    }
   ],
   "source": [
    "pt=pd.DataFrame({'month':['Jan', 'Feb', 'Mar', 'Apr', 'May', 'Jun', 'Jul', 'Aug', 'Sep', 'Oct', 'Nov', 'Dec'], \n",
    "                 'revenue per month':[Jan, Feb, Mar, Apr, May, Jun, Jul, Aug, Sep, Oct, Nov, Dec]})\n",
    "\n",
    "pt.plot.bar(x=\"month\",y=\"revenue per month\", rot=0)"
   ]
  },
  {
   "cell_type": "code",
   "execution_count": null,
   "id": "2a0ffc82",
   "metadata": {},
   "outputs": [],
   "source": []
  },
  {
   "cell_type": "markdown",
   "id": "718210f6",
   "metadata": {},
   "source": [
    "# Avg Quantity Purchased by Customer"
   ]
  },
  {
   "cell_type": "code",
   "execution_count": 24,
   "id": "47aa1064",
   "metadata": {
    "scrolled": true
   },
   "outputs": [],
   "source": [
    "caq={}\n",
    "for i in Total_Cus:\n",
    "    caq[i]=df[df[\"Customer_ID\"]==i].Quantity.mean()\n",
    "#     print(i,\"-\",df[df[\"Customer_ID\"]==i].Quantity.mean())"
   ]
  },
  {
   "cell_type": "code",
   "execution_count": 25,
   "id": "b5dcd5dc",
   "metadata": {},
   "outputs": [
    {
     "data": {
      "text/html": [
       "<div>\n",
       "<style scoped>\n",
       "    .dataframe tbody tr th:only-of-type {\n",
       "        vertical-align: middle;\n",
       "    }\n",
       "\n",
       "    .dataframe tbody tr th {\n",
       "        vertical-align: top;\n",
       "    }\n",
       "\n",
       "    .dataframe thead th {\n",
       "        text-align: right;\n",
       "    }\n",
       "</style>\n",
       "<table border=\"1\" class=\"dataframe\">\n",
       "  <thead>\n",
       "    <tr style=\"text-align: right;\">\n",
       "      <th></th>\n",
       "      <th>customer_id</th>\n",
       "      <th>avg_quantity_purchased</th>\n",
       "    </tr>\n",
       "  </thead>\n",
       "  <tbody>\n",
       "    <tr>\n",
       "      <th>0</th>\n",
       "      <td>1001</td>\n",
       "      <td>8.666667</td>\n",
       "    </tr>\n",
       "    <tr>\n",
       "      <th>1</th>\n",
       "      <td>1002</td>\n",
       "      <td>9.750000</td>\n",
       "    </tr>\n",
       "    <tr>\n",
       "      <th>2</th>\n",
       "      <td>1003</td>\n",
       "      <td>7.800000</td>\n",
       "    </tr>\n",
       "    <tr>\n",
       "      <th>3</th>\n",
       "      <td>1004</td>\n",
       "      <td>8.375000</td>\n",
       "    </tr>\n",
       "    <tr>\n",
       "      <th>4</th>\n",
       "      <td>1005</td>\n",
       "      <td>10.071429</td>\n",
       "    </tr>\n",
       "    <tr>\n",
       "      <th>...</th>\n",
       "      <td>...</td>\n",
       "      <td>...</td>\n",
       "    </tr>\n",
       "    <tr>\n",
       "      <th>95</th>\n",
       "      <td>1096</td>\n",
       "      <td>9.066667</td>\n",
       "    </tr>\n",
       "    <tr>\n",
       "      <th>96</th>\n",
       "      <td>1097</td>\n",
       "      <td>10.900000</td>\n",
       "    </tr>\n",
       "    <tr>\n",
       "      <th>97</th>\n",
       "      <td>1098</td>\n",
       "      <td>9.769231</td>\n",
       "    </tr>\n",
       "    <tr>\n",
       "      <th>98</th>\n",
       "      <td>1099</td>\n",
       "      <td>7.000000</td>\n",
       "    </tr>\n",
       "    <tr>\n",
       "      <th>99</th>\n",
       "      <td>1100</td>\n",
       "      <td>6.285714</td>\n",
       "    </tr>\n",
       "  </tbody>\n",
       "</table>\n",
       "<p>100 rows × 2 columns</p>\n",
       "</div>"
      ],
      "text/plain": [
       "    customer_id  avg_quantity_purchased\n",
       "0          1001                8.666667\n",
       "1          1002                9.750000\n",
       "2          1003                7.800000\n",
       "3          1004                8.375000\n",
       "4          1005               10.071429\n",
       "..          ...                     ...\n",
       "95         1096                9.066667\n",
       "96         1097               10.900000\n",
       "97         1098                9.769231\n",
       "98         1099                7.000000\n",
       "99         1100                6.285714\n",
       "\n",
       "[100 rows x 2 columns]"
      ]
     },
     "execution_count": 25,
     "metadata": {},
     "output_type": "execute_result"
    }
   ],
   "source": [
    "aqp=pd.DataFrame({'customer_id':caq.keys(),'avg_quantity_purchased':caq.values()})\n",
    "aqp"
   ]
  },
  {
   "cell_type": "code",
   "execution_count": 26,
   "id": "d8b04c06",
   "metadata": {
    "scrolled": true
   },
   "outputs": [
    {
     "data": {
      "text/plain": [
       "<AxesSubplot:xlabel='customer_id', ylabel='avg_quantity_purchased'>"
      ]
     },
     "execution_count": 26,
     "metadata": {},
     "output_type": "execute_result"
    },
    {
     "data": {
      "image/png": "[encoded data removed]",
      "text/plain": [
       "<Figure size 10000x1000 with 1 Axes>"
      ]
     },
     "metadata": {},
     "output_type": "display_data"
    }
   ],
   "source": [
    "plt.figure(figsize=(100,10))\n",
    "sns.barplot(x=aqp[\"customer_id\"],y=aqp[\"avg_quantity_purchased\"])"
   ]
  },
  {
   "cell_type": "code",
   "execution_count": null,
   "id": "11bb45b1",
   "metadata": {},
   "outputs": [],
   "source": []
  },
  {
   "cell_type": "markdown",
   "id": "81d7929c",
   "metadata": {},
   "source": [
    "# Top 5 Products"
   ]
  },
  {
   "cell_type": "code",
   "execution_count": 27,
   "id": "2205f84b",
   "metadata": {
    "scrolled": true
   },
   "outputs": [],
   "source": [
    "pro=df[\"Product_Name\"].unique()"
   ]
  },
  {
   "cell_type": "code",
   "execution_count": 28,
   "id": "4948bb00",
   "metadata": {},
   "outputs": [],
   "source": [
    "Q=[]\n",
    "for j in pro:\n",
    "#     print(j,\",\",df[df[\"Product_Name\"]==j].Quantity.sum())\n",
    "    Q.append(df[df[\"Product_Name\"]==j].Quantity.sum())"
   ]
  },
  {
   "cell_type": "code",
   "execution_count": 29,
   "id": "b0915283",
   "metadata": {
    "scrolled": true
   },
   "outputs": [],
   "source": [
    "pq={}\n",
    "for k,l in zip(pro,Q):\n",
    "    pq[l]=k"
   ]
  },
  {
   "cell_type": "code",
   "execution_count": 30,
   "id": "3aa59ccd",
   "metadata": {
    "scrolled": false
   },
   "outputs": [
    {
     "data": {
      "text/plain": [
       "76    special\n",
       "64     degree\n",
       "60      least\n",
       "55     accept\n",
       "54       True\n",
       "dtype: object"
      ]
     },
     "execution_count": 30,
     "metadata": {},
     "output_type": "execute_result"
    }
   ],
   "source": [
    "\n",
    "pro_qua=pd.Series(pq)\n",
    "pro_qua.sort_index(ascending=False).head()\n"
   ]
  },
  {
   "cell_type": "code",
   "execution_count": 31,
   "id": "66a5eed1",
   "metadata": {
    "scrolled": true
   },
   "outputs": [
    {
     "data": {
      "text/html": [
       "<div>\n",
       "<style scoped>\n",
       "    .dataframe tbody tr th:only-of-type {\n",
       "        vertical-align: middle;\n",
       "    }\n",
       "\n",
       "    .dataframe tbody tr th {\n",
       "        vertical-align: top;\n",
       "    }\n",
       "\n",
       "    .dataframe thead th {\n",
       "        text-align: right;\n",
       "    }\n",
       "</style>\n",
       "<table border=\"1\" class=\"dataframe\">\n",
       "  <thead>\n",
       "    <tr style=\"text-align: right;\">\n",
       "      <th></th>\n",
       "      <th>products</th>\n",
       "      <th>Total_quantity</th>\n",
       "    </tr>\n",
       "  </thead>\n",
       "  <tbody>\n",
       "    <tr>\n",
       "      <th>46</th>\n",
       "      <td>special</td>\n",
       "      <td>76</td>\n",
       "    </tr>\n",
       "    <tr>\n",
       "      <th>33</th>\n",
       "      <td>degree</td>\n",
       "      <td>64</td>\n",
       "    </tr>\n",
       "    <tr>\n",
       "      <th>48</th>\n",
       "      <td>least</td>\n",
       "      <td>60</td>\n",
       "    </tr>\n",
       "    <tr>\n",
       "      <th>50</th>\n",
       "      <td>accept</td>\n",
       "      <td>55</td>\n",
       "    </tr>\n",
       "    <tr>\n",
       "      <th>44</th>\n",
       "      <td>True</td>\n",
       "      <td>54</td>\n",
       "    </tr>\n",
       "  </tbody>\n",
       "</table>\n",
       "</div>"
      ],
      "text/plain": [
       "   products  Total_quantity\n",
       "46  special              76\n",
       "33   degree              64\n",
       "48    least              60\n",
       "50   accept              55\n",
       "44     True              54"
      ]
     },
     "execution_count": 31,
     "metadata": {},
     "output_type": "execute_result"
    }
   ],
   "source": [
    "Top=pd.DataFrame({'products':pq.values(),'Total_quantity':pq.keys()})\n",
    "Top_5_Products=Top.nlargest(n=5,columns=\"Total_quantity\")\n",
    "Top_5_Products"
   ]
  },
  {
   "cell_type": "code",
   "execution_count": 32,
   "id": "6093f6d1",
   "metadata": {},
   "outputs": [
    {
     "data": {
      "text/plain": [
       "<AxesSubplot:xlabel='products'>"
      ]
     },
     "execution_count": 32,
     "metadata": {},
     "output_type": "execute_result"
    },
    {
     "data": {
      "image/png": "[encoded data removed]",
      "text/plain": [
       "<Figure size 640x480 with 1 Axes>"
      ]
     },
     "metadata": {},
     "output_type": "display_data"
    }
   ],
   "source": [
    "TOP_5=pd.DataFrame({'products':Top_5_Products.products,'Top 5 best selling products in terms of quantity':Top_5_Products.Total_quantity})\n",
    "TOP_5.plot.bar(x=\"products\",y=\"Top 5 best selling products in terms of quantity\",rot=0)"
   ]
  },
  {
   "cell_type": "code",
   "execution_count": null,
   "id": "1df33074",
   "metadata": {},
   "outputs": [],
   "source": []
  },
  {
   "cell_type": "code",
   "execution_count": null,
   "id": "399cb7a3",
   "metadata": {},
   "outputs": [],
   "source": []
  }
 ],
 "metadata": {
  "kernelspec": {
   "display_name": "Python 3 (ipykernel)",
   "language": "python",
   "name": "python3"
  },
  "language_info": {
   "codemirror_mode": {
    "name": "ipython",
    "version": 3
   },
   "file_extension": ".py",
   "mimetype": "text/x-python",
   "name": "python",
   "nbconvert_exporter": "python",
   "pygments_lexer": "ipython3",
   "version": "3.9.13"
  }
 },
 "nbformat": 4,
 "nbformat_minor": 5
}
